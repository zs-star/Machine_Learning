{
 "cells": [
  {
   "cell_type": "code",
   "execution_count": 2,
   "metadata": {
    "_cell_guid": "b1076dfc-b9ad-4769-8c92-a6c4dae69d19",
    "_uuid": "8f2839f25d086af736a60e9eeb907d3b93b6e0e5",
    "execution": {
     "iopub.execute_input": "2021-09-26T19:47:20.453702Z",
     "iopub.status.busy": "2021-09-26T19:47:20.453313Z",
     "iopub.status.idle": "2021-09-26T19:47:20.465641Z",
     "shell.execute_reply": "2021-09-26T19:47:20.464478Z",
     "shell.execute_reply.started": "2021-09-26T19:47:20.453669Z"
    }
   },
   "outputs": [],
   "source": [
    "# This Python 3 environment comes with many helpful analytics libraries installed\n",
    "# It is defined by the kaggle/python Docker image: https://github.com/kaggle/docker-python\n",
    "# For example, here's several helpful packages to load\n",
    "\n",
    "import numpy as np\n",
    "import pandas as pd\n",
    "import matplotlib.pyplot as plt\n",
    "import seaborn as sns\n",
    "import scipy.stats as stats\n",
    "plt.rcParams[\"figure.figsize\"] = (10,6)\n",
    "import warnings\n",
    "warnings.filterwarnings('ignore')\n",
    "\n",
    "# Input data files are available in the read-only \"../input/\" directory\n",
    "# For example, running this (by clicking run or pressing Shift+Enter) will list all files under the input directory\n",
    "\n",
    "\n",
    "\n",
    "# You can write up to 20GB to the current directory (/kaggle/working/) that gets preserved as output when you create a version using \"Save & Run All\" \n",
    "# You can also write temporary files to /kaggle/temp/, but they won't be saved outside of the current session"
   ]
  },
  {
   "cell_type": "code",
   "execution_count": 3,
   "metadata": {
    "execution": {
     "iopub.execute_input": "2021-09-26T19:47:20.467574Z",
     "iopub.status.busy": "2021-09-26T19:47:20.467345Z",
     "iopub.status.idle": "2021-09-26T19:47:20.488405Z",
     "shell.execute_reply": "2021-09-26T19:47:20.487389Z",
     "shell.execute_reply.started": "2021-09-26T19:47:20.467548Z"
    }
   },
   "outputs": [],
   "source": [
    "df=pd.read_csv(\"CarPrice_Assignment.csv\")"
   ]
  },
  {
   "cell_type": "code",
   "execution_count": 4,
   "metadata": {
    "execution": {
     "iopub.execute_input": "2021-09-26T19:47:20.489969Z",
     "iopub.status.busy": "2021-09-26T19:47:20.48965Z",
     "iopub.status.idle": "2021-09-26T19:47:20.525489Z",
     "shell.execute_reply": "2021-09-26T19:47:20.524804Z",
     "shell.execute_reply.started": "2021-09-26T19:47:20.489928Z"
    }
   },
   "outputs": [
    {
     "data": {
      "text/html": [
       "<div>\n",
       "<style scoped>\n",
       "    .dataframe tbody tr th:only-of-type {\n",
       "        vertical-align: middle;\n",
       "    }\n",
       "\n",
       "    .dataframe tbody tr th {\n",
       "        vertical-align: top;\n",
       "    }\n",
       "\n",
       "    .dataframe thead th {\n",
       "        text-align: right;\n",
       "    }\n",
       "</style>\n",
       "<table border=\"1\" class=\"dataframe\">\n",
       "  <thead>\n",
       "    <tr style=\"text-align: right;\">\n",
       "      <th></th>\n",
       "      <th>car_ID</th>\n",
       "      <th>symboling</th>\n",
       "      <th>CarName</th>\n",
       "      <th>fueltype</th>\n",
       "      <th>aspiration</th>\n",
       "      <th>doornumber</th>\n",
       "      <th>carbody</th>\n",
       "      <th>drivewheel</th>\n",
       "      <th>enginelocation</th>\n",
       "      <th>wheelbase</th>\n",
       "      <th>...</th>\n",
       "      <th>enginesize</th>\n",
       "      <th>fuelsystem</th>\n",
       "      <th>boreratio</th>\n",
       "      <th>stroke</th>\n",
       "      <th>compressionratio</th>\n",
       "      <th>horsepower</th>\n",
       "      <th>peakrpm</th>\n",
       "      <th>citympg</th>\n",
       "      <th>highwaympg</th>\n",
       "      <th>price</th>\n",
       "    </tr>\n",
       "  </thead>\n",
       "  <tbody>\n",
       "    <tr>\n",
       "      <th>0</th>\n",
       "      <td>1</td>\n",
       "      <td>3</td>\n",
       "      <td>alfa-romero giulia</td>\n",
       "      <td>gas</td>\n",
       "      <td>std</td>\n",
       "      <td>two</td>\n",
       "      <td>convertible</td>\n",
       "      <td>rwd</td>\n",
       "      <td>front</td>\n",
       "      <td>88.6</td>\n",
       "      <td>...</td>\n",
       "      <td>130</td>\n",
       "      <td>mpfi</td>\n",
       "      <td>3.47</td>\n",
       "      <td>2.68</td>\n",
       "      <td>9.0</td>\n",
       "      <td>111</td>\n",
       "      <td>5000</td>\n",
       "      <td>21</td>\n",
       "      <td>27</td>\n",
       "      <td>13495.0</td>\n",
       "    </tr>\n",
       "    <tr>\n",
       "      <th>1</th>\n",
       "      <td>2</td>\n",
       "      <td>3</td>\n",
       "      <td>alfa-romero stelvio</td>\n",
       "      <td>gas</td>\n",
       "      <td>std</td>\n",
       "      <td>two</td>\n",
       "      <td>convertible</td>\n",
       "      <td>rwd</td>\n",
       "      <td>front</td>\n",
       "      <td>88.6</td>\n",
       "      <td>...</td>\n",
       "      <td>130</td>\n",
       "      <td>mpfi</td>\n",
       "      <td>3.47</td>\n",
       "      <td>2.68</td>\n",
       "      <td>9.0</td>\n",
       "      <td>111</td>\n",
       "      <td>5000</td>\n",
       "      <td>21</td>\n",
       "      <td>27</td>\n",
       "      <td>16500.0</td>\n",
       "    </tr>\n",
       "    <tr>\n",
       "      <th>2</th>\n",
       "      <td>3</td>\n",
       "      <td>1</td>\n",
       "      <td>alfa-romero Quadrifoglio</td>\n",
       "      <td>gas</td>\n",
       "      <td>std</td>\n",
       "      <td>two</td>\n",
       "      <td>hatchback</td>\n",
       "      <td>rwd</td>\n",
       "      <td>front</td>\n",
       "      <td>94.5</td>\n",
       "      <td>...</td>\n",
       "      <td>152</td>\n",
       "      <td>mpfi</td>\n",
       "      <td>2.68</td>\n",
       "      <td>3.47</td>\n",
       "      <td>9.0</td>\n",
       "      <td>154</td>\n",
       "      <td>5000</td>\n",
       "      <td>19</td>\n",
       "      <td>26</td>\n",
       "      <td>16500.0</td>\n",
       "    </tr>\n",
       "    <tr>\n",
       "      <th>3</th>\n",
       "      <td>4</td>\n",
       "      <td>2</td>\n",
       "      <td>audi 100 ls</td>\n",
       "      <td>gas</td>\n",
       "      <td>std</td>\n",
       "      <td>four</td>\n",
       "      <td>sedan</td>\n",
       "      <td>fwd</td>\n",
       "      <td>front</td>\n",
       "      <td>99.8</td>\n",
       "      <td>...</td>\n",
       "      <td>109</td>\n",
       "      <td>mpfi</td>\n",
       "      <td>3.19</td>\n",
       "      <td>3.40</td>\n",
       "      <td>10.0</td>\n",
       "      <td>102</td>\n",
       "      <td>5500</td>\n",
       "      <td>24</td>\n",
       "      <td>30</td>\n",
       "      <td>13950.0</td>\n",
       "    </tr>\n",
       "    <tr>\n",
       "      <th>4</th>\n",
       "      <td>5</td>\n",
       "      <td>2</td>\n",
       "      <td>audi 100ls</td>\n",
       "      <td>gas</td>\n",
       "      <td>std</td>\n",
       "      <td>four</td>\n",
       "      <td>sedan</td>\n",
       "      <td>4wd</td>\n",
       "      <td>front</td>\n",
       "      <td>99.4</td>\n",
       "      <td>...</td>\n",
       "      <td>136</td>\n",
       "      <td>mpfi</td>\n",
       "      <td>3.19</td>\n",
       "      <td>3.40</td>\n",
       "      <td>8.0</td>\n",
       "      <td>115</td>\n",
       "      <td>5500</td>\n",
       "      <td>18</td>\n",
       "      <td>22</td>\n",
       "      <td>17450.0</td>\n",
       "    </tr>\n",
       "  </tbody>\n",
       "</table>\n",
       "<p>5 rows × 26 columns</p>\n",
       "</div>"
      ],
      "text/plain": [
       "   car_ID  symboling                   CarName fueltype aspiration doornumber  \\\n",
       "0       1          3        alfa-romero giulia      gas        std        two   \n",
       "1       2          3       alfa-romero stelvio      gas        std        two   \n",
       "2       3          1  alfa-romero Quadrifoglio      gas        std        two   \n",
       "3       4          2               audi 100 ls      gas        std       four   \n",
       "4       5          2                audi 100ls      gas        std       four   \n",
       "\n",
       "       carbody drivewheel enginelocation  wheelbase  ...  enginesize  \\\n",
       "0  convertible        rwd          front       88.6  ...         130   \n",
       "1  convertible        rwd          front       88.6  ...         130   \n",
       "2    hatchback        rwd          front       94.5  ...         152   \n",
       "3        sedan        fwd          front       99.8  ...         109   \n",
       "4        sedan        4wd          front       99.4  ...         136   \n",
       "\n",
       "   fuelsystem  boreratio  stroke compressionratio horsepower  peakrpm citympg  \\\n",
       "0        mpfi       3.47    2.68              9.0        111     5000      21   \n",
       "1        mpfi       3.47    2.68              9.0        111     5000      21   \n",
       "2        mpfi       2.68    3.47              9.0        154     5000      19   \n",
       "3        mpfi       3.19    3.40             10.0        102     5500      24   \n",
       "4        mpfi       3.19    3.40              8.0        115     5500      18   \n",
       "\n",
       "   highwaympg    price  \n",
       "0          27  13495.0  \n",
       "1          27  16500.0  \n",
       "2          26  16500.0  \n",
       "3          30  13950.0  \n",
       "4          22  17450.0  \n",
       "\n",
       "[5 rows x 26 columns]"
      ]
     },
     "execution_count": 4,
     "metadata": {},
     "output_type": "execute_result"
    }
   ],
   "source": [
    "df.head()"
   ]
  },
  {
   "cell_type": "code",
   "execution_count": null,
   "metadata": {
    "execution": {
     "iopub.execute_input": "2021-09-26T19:47:20.528486Z",
     "iopub.status.busy": "2021-09-26T19:47:20.52748Z",
     "iopub.status.idle": "2021-09-26T19:47:20.535678Z",
     "shell.execute_reply": "2021-09-26T19:47:20.534955Z",
     "shell.execute_reply.started": "2021-09-26T19:47:20.528435Z"
    }
   },
   "outputs": [],
   "source": [
    "pd.set_option(\"display.max_columns\", None)\n"
   ]
  },
  {
   "cell_type": "code",
   "execution_count": null,
   "metadata": {
    "execution": {
     "iopub.execute_input": "2021-09-26T19:47:20.537898Z",
     "iopub.status.busy": "2021-09-26T19:47:20.536901Z",
     "iopub.status.idle": "2021-09-26T19:47:20.571234Z",
     "shell.execute_reply": "2021-09-26T19:47:20.57064Z",
     "shell.execute_reply.started": "2021-09-26T19:47:20.537744Z"
    }
   },
   "outputs": [],
   "source": [
    "df.head()"
   ]
  },
  {
   "cell_type": "code",
   "execution_count": null,
   "metadata": {
    "execution": {
     "iopub.execute_input": "2021-09-26T19:47:20.573078Z",
     "iopub.status.busy": "2021-09-26T19:47:20.572235Z",
     "iopub.status.idle": "2021-09-26T19:47:20.580186Z",
     "shell.execute_reply": "2021-09-26T19:47:20.579398Z",
     "shell.execute_reply.started": "2021-09-26T19:47:20.573041Z"
    }
   },
   "outputs": [],
   "source": [
    "df.symboling.value_counts()"
   ]
  },
  {
   "cell_type": "code",
   "execution_count": null,
   "metadata": {
    "execution": {
     "iopub.execute_input": "2021-09-26T19:47:20.582431Z",
     "iopub.status.busy": "2021-09-26T19:47:20.581564Z",
     "iopub.status.idle": "2021-09-26T19:47:20.593205Z",
     "shell.execute_reply": "2021-09-26T19:47:20.592624Z",
     "shell.execute_reply.started": "2021-09-26T19:47:20.582389Z"
    }
   },
   "outputs": [],
   "source": [
    "df.CarName.value_counts()"
   ]
  },
  {
   "cell_type": "code",
   "execution_count": null,
   "metadata": {
    "execution": {
     "iopub.execute_input": "2021-09-26T19:47:20.594939Z",
     "iopub.status.busy": "2021-09-26T19:47:20.594682Z",
     "iopub.status.idle": "2021-09-26T19:47:20.608816Z",
     "shell.execute_reply": "2021-09-26T19:47:20.608241Z",
     "shell.execute_reply.started": "2021-09-26T19:47:20.594911Z"
    }
   },
   "outputs": [],
   "source": [
    "df.fueltype.value_counts()"
   ]
  },
  {
   "cell_type": "code",
   "execution_count": null,
   "metadata": {
    "execution": {
     "iopub.execute_input": "2021-09-26T19:47:20.610419Z",
     "iopub.status.busy": "2021-09-26T19:47:20.609792Z",
     "iopub.status.idle": "2021-09-26T19:47:20.62191Z",
     "shell.execute_reply": "2021-09-26T19:47:20.620988Z",
     "shell.execute_reply.started": "2021-09-26T19:47:20.610383Z"
    }
   },
   "outputs": [],
   "source": [
    "numerical= df.drop(['price'], axis=1).select_dtypes('number').columns\n",
    "\n",
    "categorical = df.select_dtypes('object').columns\n"
   ]
  },
  {
   "cell_type": "code",
   "execution_count": null,
   "metadata": {
    "execution": {
     "iopub.execute_input": "2021-09-26T19:47:20.625292Z",
     "iopub.status.busy": "2021-09-26T19:47:20.624608Z",
     "iopub.status.idle": "2021-09-26T19:47:20.643992Z",
     "shell.execute_reply": "2021-09-26T19:47:20.643068Z",
     "shell.execute_reply.started": "2021-09-26T19:47:20.625242Z"
    }
   },
   "outputs": [],
   "source": [
    "df.info()"
   ]
  },
  {
   "cell_type": "code",
   "execution_count": null,
   "metadata": {
    "execution": {
     "iopub.execute_input": "2021-09-26T19:47:20.646061Z",
     "iopub.status.busy": "2021-09-26T19:47:20.645545Z",
     "iopub.status.idle": "2021-09-26T19:47:20.664243Z",
     "shell.execute_reply": "2021-09-26T19:47:20.663392Z",
     "shell.execute_reply.started": "2021-09-26T19:47:20.645998Z"
    }
   },
   "outputs": [],
   "source": [
    "df.nunique()"
   ]
  },
  {
   "cell_type": "code",
   "execution_count": null,
   "metadata": {
    "execution": {
     "iopub.execute_input": "2021-09-26T19:47:20.66642Z",
     "iopub.status.busy": "2021-09-26T19:47:20.665585Z",
     "iopub.status.idle": "2021-09-26T19:47:20.6742Z",
     "shell.execute_reply": "2021-09-26T19:47:20.673405Z",
     "shell.execute_reply.started": "2021-09-26T19:47:20.666377Z"
    }
   },
   "outputs": [],
   "source": [
    "df.aspiration.value_counts()"
   ]
  },
  {
   "cell_type": "code",
   "execution_count": null,
   "metadata": {
    "execution": {
     "iopub.execute_input": "2021-09-26T19:47:20.676169Z",
     "iopub.status.busy": "2021-09-26T19:47:20.675283Z",
     "iopub.status.idle": "2021-09-26T19:47:20.68986Z",
     "shell.execute_reply": "2021-09-26T19:47:20.688893Z",
     "shell.execute_reply.started": "2021-09-26T19:47:20.676125Z"
    }
   },
   "outputs": [],
   "source": [
    "df.carbody.value_counts()"
   ]
  },
  {
   "cell_type": "code",
   "execution_count": null,
   "metadata": {
    "execution": {
     "iopub.execute_input": "2021-09-26T19:47:20.691528Z",
     "iopub.status.busy": "2021-09-26T19:47:20.691243Z",
     "iopub.status.idle": "2021-09-26T19:47:20.70149Z",
     "shell.execute_reply": "2021-09-26T19:47:20.700658Z",
     "shell.execute_reply.started": "2021-09-26T19:47:20.691501Z"
    }
   },
   "outputs": [],
   "source": [
    "df.drivewheel.value_counts()"
   ]
  },
  {
   "cell_type": "code",
   "execution_count": null,
   "metadata": {
    "execution": {
     "iopub.execute_input": "2021-09-26T19:47:20.70342Z",
     "iopub.status.busy": "2021-09-26T19:47:20.702956Z",
     "iopub.status.idle": "2021-09-26T19:47:20.717196Z",
     "shell.execute_reply": "2021-09-26T19:47:20.716231Z",
     "shell.execute_reply.started": "2021-09-26T19:47:20.703386Z"
    }
   },
   "outputs": [],
   "source": [
    "df.enginelocation.value_counts()"
   ]
  },
  {
   "cell_type": "code",
   "execution_count": null,
   "metadata": {
    "execution": {
     "iopub.execute_input": "2021-09-26T19:47:20.718994Z",
     "iopub.status.busy": "2021-09-26T19:47:20.718706Z",
     "iopub.status.idle": "2021-09-26T19:47:20.73123Z",
     "shell.execute_reply": "2021-09-26T19:47:20.730195Z",
     "shell.execute_reply.started": "2021-09-26T19:47:20.718965Z"
    }
   },
   "outputs": [],
   "source": [
    "df.enginetype.value_counts()"
   ]
  },
  {
   "cell_type": "code",
   "execution_count": null,
   "metadata": {
    "execution": {
     "iopub.execute_input": "2021-09-26T19:47:20.733227Z",
     "iopub.status.busy": "2021-09-26T19:47:20.73283Z",
     "iopub.status.idle": "2021-09-26T19:47:20.744968Z",
     "shell.execute_reply": "2021-09-26T19:47:20.744125Z",
     "shell.execute_reply.started": "2021-09-26T19:47:20.733183Z"
    }
   },
   "outputs": [],
   "source": [
    "df.cylindernumber.value_counts()"
   ]
  },
  {
   "cell_type": "code",
   "execution_count": null,
   "metadata": {
    "execution": {
     "iopub.execute_input": "2021-09-26T19:47:20.748112Z",
     "iopub.status.busy": "2021-09-26T19:47:20.747897Z",
     "iopub.status.idle": "2021-09-26T19:47:22.441343Z",
     "shell.execute_reply": "2021-09-26T19:47:22.440744Z",
     "shell.execute_reply.started": "2021-09-26T19:47:20.748087Z"
    }
   },
   "outputs": [],
   "source": [
    "sns.heatmap(df.corr(),annot=True)"
   ]
  },
  {
   "cell_type": "code",
   "execution_count": null,
   "metadata": {
    "execution": {
     "iopub.execute_input": "2021-09-26T19:47:22.442697Z",
     "iopub.status.busy": "2021-09-26T19:47:22.442382Z",
     "iopub.status.idle": "2021-09-26T19:47:22.446134Z",
     "shell.execute_reply": "2021-09-26T19:47:22.445484Z",
     "shell.execute_reply.started": "2021-09-26T19:47:22.44267Z"
    }
   },
   "outputs": [],
   "source": [
    "# df['model'] = [x.split()[0] for x in df['CarName']]\n",
    "# df['model'] = df['model'].replace({'maxda': 'Mazda', 'nissan': 'Nissan', 'porcshce': 'Porsche', 'toyouta': 'Toyota', \n",
    "#                             'vokswagen': 'Volkswagen', 'vw': 'Volkswagen'})\n",
    "\n",
    "#df= df.drop(['car_ID','CarName'], axis=1)\n"
   ]
  },
  {
   "cell_type": "code",
   "execution_count": null,
   "metadata": {
    "execution": {
     "iopub.execute_input": "2021-09-26T19:47:22.448051Z",
     "iopub.status.busy": "2021-09-26T19:47:22.447045Z",
     "iopub.status.idle": "2021-09-26T19:47:22.464168Z",
     "shell.execute_reply": "2021-09-26T19:47:22.463132Z",
     "shell.execute_reply.started": "2021-09-26T19:47:22.448017Z"
    }
   },
   "outputs": [],
   "source": [
    "skew_limit = 0.75 # define a limit above which we will log transform\n",
    "skew_vals = df[numerical].skew()\n",
    "skew_cols= skew_vals[abs(skew_vals)> skew_limit].sort_values(ascending=False)\n",
    "skew_cols\n"
   ]
  },
  {
   "cell_type": "code",
   "execution_count": null,
   "metadata": {
    "execution": {
     "iopub.execute_input": "2021-09-26T19:47:22.465918Z",
     "iopub.status.busy": "2021-09-26T19:47:22.465592Z",
     "iopub.status.idle": "2021-09-26T19:47:23.99449Z",
     "shell.execute_reply": "2021-09-26T19:47:23.993631Z",
     "shell.execute_reply.started": "2021-09-26T19:47:22.465869Z"
    }
   },
   "outputs": [],
   "source": [
    "df_try = df.copy()\n",
    "\n",
    "for col in skew_cols.index.values:\n",
    "    df_try[col] = df_try[col].apply(np.log1p)\n",
    "\n",
    "df_try[skew_cols.index].plot(kind='hist',subplots=True,bins=50);\n"
   ]
  },
  {
   "cell_type": "code",
   "execution_count": null,
   "metadata": {
    "execution": {
     "iopub.execute_input": "2021-09-26T19:47:23.996107Z",
     "iopub.status.busy": "2021-09-26T19:47:23.995861Z",
     "iopub.status.idle": "2021-09-26T19:47:24.000335Z",
     "shell.execute_reply": "2021-09-26T19:47:23.999665Z",
     "shell.execute_reply.started": "2021-09-26T19:47:23.996079Z"
    }
   },
   "outputs": [],
   "source": [
    "# df_trans = df1[skew_cols.index].copy()\n",
    "# pt = PowerTransformer(method='yeo-johnson')\n",
    "# trans= pt.fit_transform(df_trans)\n",
    "# # convert the array back to a dataframe\n",
    "# df_trans = pd.DataFrame(trans, columns =skew_cols.index )\n",
    "# # histograms of the variables\n",
    "# print(df_trans.skew())\n",
    "# df_trans.iplot(kind='hist');\n"
   ]
  },
  {
   "cell_type": "code",
   "execution_count": null,
   "metadata": {
    "execution": {
     "iopub.execute_input": "2021-09-26T19:47:24.001757Z",
     "iopub.status.busy": "2021-09-26T19:47:24.001523Z",
     "iopub.status.idle": "2021-09-26T19:47:24.014123Z",
     "shell.execute_reply": "2021-09-26T19:47:24.013226Z",
     "shell.execute_reply.started": "2021-09-26T19:47:24.001731Z"
    }
   },
   "outputs": [],
   "source": [
    "# rmse_vals =[]\n",
    "# r2_train = []\n",
    "# r2_vals =[]\n",
    "# model_names =[]\n",
    "\n",
    "# X= df2.drop('price', axis=1)\n",
    "# y= df2['price']\n",
    "# X_train, X_test, y_train, y_test = train_test_split(X, y, test_size=0.3, random_state=42)\n",
    "\n",
    "\n",
    "# lr = LinearRegression()\n",
    "# rr = Ridge()\n",
    "# elastic= ElasticNet()\n",
    "# lassor = Lasso()\n",
    "\n",
    "# models = [lr,rr,lassor,elastic]\n",
    "\n",
    "# for model in models:\n",
    "#     model.fit(X_train, y_train)\n",
    "#     y_pred = model.predict(X_test)\n",
    "#     rmse_vals.append(np.sqrt(mean_squared_error(y_test, y_pred)))\n",
    "#     r2_train.append (model.score(X_train,y_train))\n",
    "#     r2_vals.append(r2_score(y_test, y_pred))\n",
    "#     sns.distplot((y_test-y_pred),bins=50)\n",
    "#     (y_test-y_pred).iplot(kind='hist')\n",
    "#     print (f'model : {model} and  rmse score is : {np.sqrt(mean_squared_error(y_test, y_pred))}, r2 score is {r2_score(y_test, y_pred)}')\n",
    "    \n",
    "    \n",
    "\n",
    "# model_names = ['LinearRegression','Ridge','Lasso','ElasticNet']\n",
    "# result_df = pd.DataFrame({'RMSE':rmse_vals,'R2_Train':r2_train, 'R2_Test':r2_vals}, index=model_names)\n",
    "# result_df\n"
   ]
  },
  {
   "cell_type": "code",
   "execution_count": null,
   "metadata": {
    "execution": {
     "iopub.execute_input": "2021-09-26T19:47:24.015999Z",
     "iopub.status.busy": "2021-09-26T19:47:24.015679Z",
     "iopub.status.idle": "2021-09-26T19:47:25.157167Z",
     "shell.execute_reply": "2021-09-26T19:47:25.1566Z",
     "shell.execute_reply.started": "2021-09-26T19:47:24.015959Z"
    }
   },
   "outputs": [],
   "source": [
    "numerical1= df.select_dtypes('number').columns\n",
    "\n",
    "\n",
    "matrix = np.triu(df[numerical1].corr())\n",
    "fig, ax = plt.subplots(figsize=(12,10)) \n",
    "sns.heatmap (df[numerical1].corr(), annot=True, fmt= '.2f', vmin=-1, vmax=1, center=0, cmap='coolwarm',mask=matrix, ax=ax);\n",
    "\n"
   ]
  },
  {
   "cell_type": "code",
   "execution_count": null,
   "metadata": {
    "execution": {
     "iopub.execute_input": "2021-09-26T19:47:25.158843Z",
     "iopub.status.busy": "2021-09-26T19:47:25.158056Z",
     "iopub.status.idle": "2021-09-26T19:47:25.163404Z",
     "shell.execute_reply": "2021-09-26T19:47:25.162484Z",
     "shell.execute_reply.started": "2021-09-26T19:47:25.158798Z"
    }
   },
   "outputs": [],
   "source": [
    "#df.drop([\"car_ID\",\"CarName\",\"doornumber\",\"wheelbase\",\"carlength\",\"carwidth\",\"carheight\",\"curbweight\"],axis=1,inplace=True)"
   ]
  },
  {
   "cell_type": "code",
   "execution_count": null,
   "metadata": {
    "execution": {
     "iopub.execute_input": "2021-09-26T19:47:25.165388Z",
     "iopub.status.busy": "2021-09-26T19:47:25.165082Z",
     "iopub.status.idle": "2021-09-26T19:47:25.182342Z",
     "shell.execute_reply": "2021-09-26T19:47:25.181472Z",
     "shell.execute_reply.started": "2021-09-26T19:47:25.165351Z"
    }
   },
   "outputs": [],
   "source": [
    "df.drop([\"car_ID\",\"CarName\",\"doornumber\"],axis=1,inplace=True)"
   ]
  },
  {
   "cell_type": "code",
   "execution_count": null,
   "metadata": {
    "execution": {
     "iopub.execute_input": "2021-09-26T19:47:25.184153Z",
     "iopub.status.busy": "2021-09-26T19:47:25.183742Z",
     "iopub.status.idle": "2021-09-26T19:47:25.195362Z",
     "shell.execute_reply": "2021-09-26T19:47:25.194438Z",
     "shell.execute_reply.started": "2021-09-26T19:47:25.184125Z"
    }
   },
   "outputs": [],
   "source": [
    "df.shape"
   ]
  },
  {
   "cell_type": "code",
   "execution_count": null,
   "metadata": {
    "execution": {
     "iopub.execute_input": "2021-09-26T19:47:25.201227Z",
     "iopub.status.busy": "2021-09-26T19:47:25.200967Z",
     "iopub.status.idle": "2021-09-26T19:47:25.218361Z",
     "shell.execute_reply": "2021-09-26T19:47:25.217286Z",
     "shell.execute_reply.started": "2021-09-26T19:47:25.201202Z"
    }
   },
   "outputs": [],
   "source": [
    "df=pd.get_dummies(df,drop_first=True)"
   ]
  },
  {
   "cell_type": "code",
   "execution_count": null,
   "metadata": {
    "execution": {
     "iopub.execute_input": "2021-09-26T19:47:25.21978Z",
     "iopub.status.busy": "2021-09-26T19:47:25.219559Z",
     "iopub.status.idle": "2021-09-26T19:47:25.225874Z",
     "shell.execute_reply": "2021-09-26T19:47:25.224893Z",
     "shell.execute_reply.started": "2021-09-26T19:47:25.219754Z"
    }
   },
   "outputs": [],
   "source": [
    "df.shape"
   ]
  },
  {
   "cell_type": "code",
   "execution_count": null,
   "metadata": {
    "execution": {
     "iopub.execute_input": "2021-09-26T19:47:25.227673Z",
     "iopub.status.busy": "2021-09-26T19:47:25.227375Z",
     "iopub.status.idle": "2021-09-26T19:47:25.262355Z",
     "shell.execute_reply": "2021-09-26T19:47:25.261433Z",
     "shell.execute_reply.started": "2021-09-26T19:47:25.227635Z"
    }
   },
   "outputs": [],
   "source": [
    "df.head()"
   ]
  },
  {
   "cell_type": "code",
   "execution_count": null,
   "metadata": {
    "execution": {
     "iopub.execute_input": "2021-09-26T19:47:25.264086Z",
     "iopub.status.busy": "2021-09-26T19:47:25.263771Z",
     "iopub.status.idle": "2021-09-26T19:47:25.272945Z",
     "shell.execute_reply": "2021-09-26T19:47:25.272085Z",
     "shell.execute_reply.started": "2021-09-26T19:47:25.264047Z"
    }
   },
   "outputs": [],
   "source": [
    "df.shape"
   ]
  },
  {
   "cell_type": "code",
   "execution_count": null,
   "metadata": {
    "execution": {
     "iopub.execute_input": "2021-09-26T19:47:25.274424Z",
     "iopub.status.busy": "2021-09-26T19:47:25.274153Z",
     "iopub.status.idle": "2021-09-26T19:47:25.287097Z",
     "shell.execute_reply": "2021-09-26T19:47:25.286286Z",
     "shell.execute_reply.started": "2021-09-26T19:47:25.274397Z"
    }
   },
   "outputs": [],
   "source": [
    "X=df.drop(columns=\"price\")\n",
    "y=df[\"price\"]"
   ]
  },
  {
   "cell_type": "code",
   "execution_count": null,
   "metadata": {
    "execution": {
     "iopub.execute_input": "2021-09-26T19:47:25.288719Z",
     "iopub.status.busy": "2021-09-26T19:47:25.28848Z",
     "iopub.status.idle": "2021-09-26T19:47:25.297166Z",
     "shell.execute_reply": "2021-09-26T19:47:25.296386Z",
     "shell.execute_reply.started": "2021-09-26T19:47:25.288693Z"
    }
   },
   "outputs": [],
   "source": [
    "from sklearn.model_selection import train_test_split"
   ]
  },
  {
   "cell_type": "code",
   "execution_count": null,
   "metadata": {
    "execution": {
     "iopub.execute_input": "2021-09-26T19:47:25.298824Z",
     "iopub.status.busy": "2021-09-26T19:47:25.298602Z",
     "iopub.status.idle": "2021-09-26T19:47:25.311397Z",
     "shell.execute_reply": "2021-09-26T19:47:25.310481Z",
     "shell.execute_reply.started": "2021-09-26T19:47:25.298799Z"
    }
   },
   "outputs": [],
   "source": [
    "X_train, X_test, y_train, y_test= train_test_split(X,y,test_size=0.3,random_state=42)"
   ]
  },
  {
   "cell_type": "code",
   "execution_count": null,
   "metadata": {
    "execution": {
     "iopub.execute_input": "2021-09-26T19:47:25.312703Z",
     "iopub.status.busy": "2021-09-26T19:47:25.312416Z",
     "iopub.status.idle": "2021-09-26T19:47:25.323276Z",
     "shell.execute_reply": "2021-09-26T19:47:25.322486Z",
     "shell.execute_reply.started": "2021-09-26T19:47:25.312673Z"
    }
   },
   "outputs": [],
   "source": [
    "from sklearn.preprocessing import StandardScaler, MinMaxScaler, RobustScaler\n",
    "\n",
    "scaler = StandardScaler()"
   ]
  },
  {
   "cell_type": "code",
   "execution_count": null,
   "metadata": {
    "execution": {
     "iopub.execute_input": "2021-09-26T19:47:25.325428Z",
     "iopub.status.busy": "2021-09-26T19:47:25.32495Z",
     "iopub.status.idle": "2021-09-26T19:47:25.33896Z",
     "shell.execute_reply": "2021-09-26T19:47:25.338001Z",
     "shell.execute_reply.started": "2021-09-26T19:47:25.325245Z"
    }
   },
   "outputs": [],
   "source": [
    "scaler.fit(X_train)"
   ]
  },
  {
   "cell_type": "code",
   "execution_count": null,
   "metadata": {
    "execution": {
     "iopub.execute_input": "2021-09-26T19:47:25.340737Z",
     "iopub.status.busy": "2021-09-26T19:47:25.340396Z",
     "iopub.status.idle": "2021-09-26T19:47:25.349123Z",
     "shell.execute_reply": "2021-09-26T19:47:25.348278Z",
     "shell.execute_reply.started": "2021-09-26T19:47:25.340697Z"
    }
   },
   "outputs": [],
   "source": [
    "X_train = scaler.transform(X_train)"
   ]
  },
  {
   "cell_type": "code",
   "execution_count": null,
   "metadata": {
    "execution": {
     "iopub.execute_input": "2021-09-26T19:47:25.351222Z",
     "iopub.status.busy": "2021-09-26T19:47:25.350491Z",
     "iopub.status.idle": "2021-09-26T19:47:25.366838Z",
     "shell.execute_reply": "2021-09-26T19:47:25.365912Z",
     "shell.execute_reply.started": "2021-09-26T19:47:25.351178Z"
    }
   },
   "outputs": [],
   "source": [
    "X_test = scaler.transform(X_test)"
   ]
  },
  {
   "cell_type": "code",
   "execution_count": null,
   "metadata": {
    "execution": {
     "iopub.execute_input": "2021-09-26T19:47:25.368818Z",
     "iopub.status.busy": "2021-09-26T19:47:25.368297Z",
     "iopub.status.idle": "2021-09-26T19:47:25.378592Z",
     "shell.execute_reply": "2021-09-26T19:47:25.377708Z",
     "shell.execute_reply.started": "2021-09-26T19:47:25.368777Z"
    }
   },
   "outputs": [],
   "source": [
    "from sklearn.linear_model import LinearRegression"
   ]
  },
  {
   "cell_type": "code",
   "execution_count": null,
   "metadata": {
    "execution": {
     "iopub.execute_input": "2021-09-26T19:47:25.380138Z",
     "iopub.status.busy": "2021-09-26T19:47:25.379844Z",
     "iopub.status.idle": "2021-09-26T19:47:25.393041Z",
     "shell.execute_reply": "2021-09-26T19:47:25.392096Z",
     "shell.execute_reply.started": "2021-09-26T19:47:25.380101Z"
    }
   },
   "outputs": [],
   "source": [
    "model_lm=LinearRegression()"
   ]
  },
  {
   "cell_type": "code",
   "execution_count": null,
   "metadata": {
    "execution": {
     "iopub.execute_input": "2021-09-26T19:47:25.394662Z",
     "iopub.status.busy": "2021-09-26T19:47:25.394429Z",
     "iopub.status.idle": "2021-09-26T19:47:25.407186Z",
     "shell.execute_reply": "2021-09-26T19:47:25.406357Z",
     "shell.execute_reply.started": "2021-09-26T19:47:25.394635Z"
    }
   },
   "outputs": [],
   "source": [
    "model_lm.fit(X_train,y_train)"
   ]
  },
  {
   "cell_type": "code",
   "execution_count": null,
   "metadata": {
    "execution": {
     "iopub.execute_input": "2021-09-26T19:47:25.408992Z",
     "iopub.status.busy": "2021-09-26T19:47:25.408338Z",
     "iopub.status.idle": "2021-09-26T19:47:25.417529Z",
     "shell.execute_reply": "2021-09-26T19:47:25.416732Z",
     "shell.execute_reply.started": "2021-09-26T19:47:25.408958Z"
    }
   },
   "outputs": [],
   "source": [
    "y_pred=model_lm.predict(X_test)"
   ]
  },
  {
   "cell_type": "code",
   "execution_count": null,
   "metadata": {
    "execution": {
     "iopub.execute_input": "2021-09-26T19:47:25.41961Z",
     "iopub.status.busy": "2021-09-26T19:47:25.419096Z",
     "iopub.status.idle": "2021-09-26T19:47:25.428999Z",
     "shell.execute_reply": "2021-09-26T19:47:25.428379Z",
     "shell.execute_reply.started": "2021-09-26T19:47:25.419576Z"
    }
   },
   "outputs": [],
   "source": [
    "my_dict={\"Actual\":y_test,\"Pred\":y_pred,\"residual\":y_test-y_pred}"
   ]
  },
  {
   "cell_type": "code",
   "execution_count": null,
   "metadata": {
    "execution": {
     "iopub.execute_input": "2021-09-26T19:47:25.430811Z",
     "iopub.status.busy": "2021-09-26T19:47:25.430039Z",
     "iopub.status.idle": "2021-09-26T19:47:25.450763Z",
     "shell.execute_reply": "2021-09-26T19:47:25.449915Z",
     "shell.execute_reply.started": "2021-09-26T19:47:25.430774Z"
    }
   },
   "outputs": [],
   "source": [
    "compare=pd.DataFrame(my_dict)\n",
    "compare"
   ]
  },
  {
   "cell_type": "code",
   "execution_count": null,
   "metadata": {
    "execution": {
     "iopub.execute_input": "2021-09-26T19:47:25.451985Z",
     "iopub.status.busy": "2021-09-26T19:47:25.45177Z",
     "iopub.status.idle": "2021-09-26T19:47:25.455985Z",
     "shell.execute_reply": "2021-09-26T19:47:25.455362Z",
     "shell.execute_reply.started": "2021-09-26T19:47:25.451962Z"
    }
   },
   "outputs": [],
   "source": [
    "from sklearn.metrics import mean_absolute_error, mean_squared_error,r2_score"
   ]
  },
  {
   "cell_type": "code",
   "execution_count": null,
   "metadata": {
    "execution": {
     "iopub.execute_input": "2021-09-26T19:47:25.457763Z",
     "iopub.status.busy": "2021-09-26T19:47:25.457027Z",
     "iopub.status.idle": "2021-09-26T19:47:25.46646Z",
     "shell.execute_reply": "2021-09-26T19:47:25.46547Z",
     "shell.execute_reply.started": "2021-09-26T19:47:25.457726Z"
    }
   },
   "outputs": [],
   "source": [
    "def eval_metric(actual, pred):\n",
    "    mae = mean_absolute_error(actual, pred)\n",
    "    mse = mean_squared_error(actual, pred)\n",
    "    rmse = np.sqrt(mean_squared_error(actual, pred))\n",
    "    R2_score = r2_score(actual, pred)\n",
    "    print(\"Model testing performance:\")\n",
    "    print(\"--------------------------\")\n",
    "    print(f\"R2_score \\t: {R2_score}\")\n",
    "    print(f\"MAE \\t\\t: {mae}\")\n",
    "    print(f\"MSE \\t\\t: {mse}\")\n",
    "    print(f\"RMSE \\t\\t: {rmse}\")"
   ]
  },
  {
   "cell_type": "code",
   "execution_count": null,
   "metadata": {
    "execution": {
     "iopub.execute_input": "2021-09-26T19:47:25.469805Z",
     "iopub.status.busy": "2021-09-26T19:47:25.469479Z",
     "iopub.status.idle": "2021-09-26T19:47:25.480419Z",
     "shell.execute_reply": "2021-09-26T19:47:25.479683Z",
     "shell.execute_reply.started": "2021-09-26T19:47:25.469763Z"
    }
   },
   "outputs": [],
   "source": [
    "eval_metric(y_test,y_pred)"
   ]
  },
  {
   "cell_type": "code",
   "execution_count": null,
   "metadata": {
    "execution": {
     "iopub.execute_input": "2021-09-26T19:47:25.482117Z",
     "iopub.status.busy": "2021-09-26T19:47:25.481469Z",
     "iopub.status.idle": "2021-09-26T19:47:25.490543Z",
     "shell.execute_reply": "2021-09-26T19:47:25.48981Z",
     "shell.execute_reply.started": "2021-09-26T19:47:25.482086Z"
    }
   },
   "outputs": [],
   "source": [
    "y_train_pred=model_lm.predict(X_train)"
   ]
  },
  {
   "cell_type": "code",
   "execution_count": null,
   "metadata": {
    "execution": {
     "iopub.execute_input": "2021-09-26T19:47:25.49201Z",
     "iopub.status.busy": "2021-09-26T19:47:25.49165Z",
     "iopub.status.idle": "2021-09-26T19:47:25.503677Z",
     "shell.execute_reply": "2021-09-26T19:47:25.5028Z",
     "shell.execute_reply.started": "2021-09-26T19:47:25.491984Z"
    }
   },
   "outputs": [],
   "source": [
    "eval_metric(y_train,y_train_pred)"
   ]
  },
  {
   "cell_type": "code",
   "execution_count": null,
   "metadata": {
    "execution": {
     "iopub.execute_input": "2021-09-26T19:47:25.507138Z",
     "iopub.status.busy": "2021-09-26T19:47:25.506907Z",
     "iopub.status.idle": "2021-09-26T19:47:25.527482Z",
     "shell.execute_reply": "2021-09-26T19:47:25.526639Z",
     "shell.execute_reply.started": "2021-09-26T19:47:25.507112Z"
    }
   },
   "outputs": [],
   "source": [
    "lm_scores = {\"lm_train\": {\"rmse\" : np.sqrt(mean_squared_error(y_train, y_train_pred)),\n",
    "    \"mae\" : mean_absolute_error(y_train, y_train_pred),\n",
    "    \"mse\" : mean_squared_error(y_train, y_train_pred),\n",
    "    \"R2\" : r2_score(y_train, y_train_pred)}, \n",
    "\n",
    "    \"lm_test\": {\"rmse\" : np.sqrt(mean_squared_error(y_test, y_pred)),\n",
    "    \"mae\" : mean_absolute_error(y_test, y_pred),\n",
    "    \"mse\" : mean_squared_error(y_test, y_pred),\n",
    "    \"R2\" : r2_score(y_test, y_pred)}}\n",
    "ls =pd.DataFrame(lm_scores)\n",
    "ls"
   ]
  },
  {
   "cell_type": "code",
   "execution_count": null,
   "metadata": {
    "execution": {
     "iopub.execute_input": "2021-09-26T19:47:25.529162Z",
     "iopub.status.busy": "2021-09-26T19:47:25.528833Z",
     "iopub.status.idle": "2021-09-26T19:47:25.542057Z",
     "shell.execute_reply": "2021-09-26T19:47:25.541179Z",
     "shell.execute_reply.started": "2021-09-26T19:47:25.529124Z"
    }
   },
   "outputs": [],
   "source": [
    "from sklearn.linear_model import LassoCV"
   ]
  },
  {
   "cell_type": "code",
   "execution_count": null,
   "metadata": {
    "execution": {
     "iopub.execute_input": "2021-09-26T19:47:25.543831Z",
     "iopub.status.busy": "2021-09-26T19:47:25.543602Z",
     "iopub.status.idle": "2021-09-26T19:47:25.554108Z",
     "shell.execute_reply": "2021-09-26T19:47:25.553107Z",
     "shell.execute_reply.started": "2021-09-26T19:47:25.543806Z"
    }
   },
   "outputs": [],
   "source": [
    "alpha_space = np.linspace(0.01, 1, 100)"
   ]
  },
  {
   "cell_type": "code",
   "execution_count": null,
   "metadata": {
    "execution": {
     "iopub.execute_input": "2021-09-26T19:47:25.555954Z",
     "iopub.status.busy": "2021-09-26T19:47:25.555701Z",
     "iopub.status.idle": "2021-09-26T19:47:25.565673Z",
     "shell.execute_reply": "2021-09-26T19:47:25.564799Z",
     "shell.execute_reply.started": "2021-09-26T19:47:25.55593Z"
    }
   },
   "outputs": [],
   "source": [
    "lasso_cv_model = LassoCV(alphas = alpha_space, cv = 10, max_iter = 100000)"
   ]
  },
  {
   "cell_type": "code",
   "execution_count": null,
   "metadata": {
    "execution": {
     "iopub.execute_input": "2021-09-26T19:47:25.567399Z",
     "iopub.status.busy": "2021-09-26T19:47:25.566797Z",
     "iopub.status.idle": "2021-09-26T19:47:26.074938Z",
     "shell.execute_reply": "2021-09-26T19:47:26.074073Z",
     "shell.execute_reply.started": "2021-09-26T19:47:25.567366Z"
    }
   },
   "outputs": [],
   "source": [
    "lasso_cv_model.fit(X_train, y_train)"
   ]
  },
  {
   "cell_type": "code",
   "execution_count": null,
   "metadata": {
    "execution": {
     "iopub.execute_input": "2021-09-26T19:47:26.076043Z",
     "iopub.status.busy": "2021-09-26T19:47:26.07583Z",
     "iopub.status.idle": "2021-09-26T19:47:26.082075Z",
     "shell.execute_reply": "2021-09-26T19:47:26.081293Z",
     "shell.execute_reply.started": "2021-09-26T19:47:26.076012Z"
    }
   },
   "outputs": [],
   "source": [
    "lasso_cv_model.alpha_"
   ]
  },
  {
   "cell_type": "code",
   "execution_count": null,
   "metadata": {
    "execution": {
     "iopub.execute_input": "2021-09-26T19:47:26.083659Z",
     "iopub.status.busy": "2021-09-26T19:47:26.083428Z",
     "iopub.status.idle": "2021-09-26T19:47:26.093317Z",
     "shell.execute_reply": "2021-09-26T19:47:26.092354Z",
     "shell.execute_reply.started": "2021-09-26T19:47:26.083633Z"
    }
   },
   "outputs": [],
   "source": [
    "y_train_pred = lasso_cv_model.predict(X_train)"
   ]
  },
  {
   "cell_type": "code",
   "execution_count": null,
   "metadata": {
    "execution": {
     "iopub.execute_input": "2021-09-26T19:47:26.094987Z",
     "iopub.status.busy": "2021-09-26T19:47:26.094738Z",
     "iopub.status.idle": "2021-09-26T19:47:26.10392Z",
     "shell.execute_reply": "2021-09-26T19:47:26.103069Z",
     "shell.execute_reply.started": "2021-09-26T19:47:26.094959Z"
    }
   },
   "outputs": [],
   "source": [
    "y_pred = lasso_cv_model.predict(X_test)"
   ]
  },
  {
   "cell_type": "code",
   "execution_count": null,
   "metadata": {
    "execution": {
     "iopub.execute_input": "2021-09-26T19:47:26.105761Z",
     "iopub.status.busy": "2021-09-26T19:47:26.105521Z",
     "iopub.status.idle": "2021-09-26T19:47:26.124963Z",
     "shell.execute_reply": "2021-09-26T19:47:26.124097Z",
     "shell.execute_reply.started": "2021-09-26T19:47:26.105734Z"
    }
   },
   "outputs": [],
   "source": [
    "lasso_cv_scores = {\"lasso_cv_train\": {\"rmse\" : np.sqrt(mean_squared_error(y_train, y_train_pred)),\n",
    "    \"mae\" : mean_absolute_error(y_train, y_train_pred),\n",
    "    \"mse\" : mean_squared_error(y_train, y_train_pred),\n",
    "    \"R2\" : r2_score(y_train, y_train_pred)}, \n",
    "\n",
    "    \"lasso_cv_test\": {\"rmse\" : np.sqrt(mean_squared_error(y_test, y_pred)),\n",
    "    \"mae\" : mean_absolute_error(y_test, y_pred),\n",
    "    \"mse\" : mean_squared_error(y_test, y_pred),\n",
    "    \"R2\" : r2_score(y_test, y_pred)}}\n",
    "lcs = pd.DataFrame(lasso_cv_scores)\n",
    "lcs"
   ]
  },
  {
   "cell_type": "code",
   "execution_count": null,
   "metadata": {
    "execution": {
     "iopub.execute_input": "2021-09-26T19:47:26.126691Z",
     "iopub.status.busy": "2021-09-26T19:47:26.126376Z",
     "iopub.status.idle": "2021-09-26T19:47:26.142436Z",
     "shell.execute_reply": "2021-09-26T19:47:26.141618Z",
     "shell.execute_reply.started": "2021-09-26T19:47:26.126653Z"
    }
   },
   "outputs": [],
   "source": [
    "pd.concat([ls,lcs], axis = 1)"
   ]
  },
  {
   "cell_type": "code",
   "execution_count": null,
   "metadata": {
    "execution": {
     "iopub.execute_input": "2021-09-26T19:47:26.143871Z",
     "iopub.status.busy": "2021-09-26T19:47:26.143644Z",
     "iopub.status.idle": "2021-09-26T19:47:26.1538Z",
     "shell.execute_reply": "2021-09-26T19:47:26.153164Z",
     "shell.execute_reply.started": "2021-09-26T19:47:26.14384Z"
    }
   },
   "outputs": [],
   "source": [
    "from sklearn.linear_model import RidgeCV"
   ]
  },
  {
   "cell_type": "code",
   "execution_count": null,
   "metadata": {
    "execution": {
     "iopub.execute_input": "2021-09-26T19:47:26.154856Z",
     "iopub.status.busy": "2021-09-26T19:47:26.154639Z",
     "iopub.status.idle": "2021-09-26T19:47:26.166057Z",
     "shell.execute_reply": "2021-09-26T19:47:26.165179Z",
     "shell.execute_reply.started": "2021-09-26T19:47:26.15483Z"
    }
   },
   "outputs": [],
   "source": [
    "ridge_cv_model = RidgeCV(alphas = alpha_space, cv = 10, scoring = \"neg_root_mean_squared_error\")"
   ]
  },
  {
   "cell_type": "code",
   "execution_count": null,
   "metadata": {
    "execution": {
     "iopub.execute_input": "2021-09-26T19:47:26.167644Z",
     "iopub.status.busy": "2021-09-26T19:47:26.167384Z",
     "iopub.status.idle": "2021-09-26T19:47:27.999538Z",
     "shell.execute_reply": "2021-09-26T19:47:27.99864Z",
     "shell.execute_reply.started": "2021-09-26T19:47:26.167615Z"
    }
   },
   "outputs": [],
   "source": [
    "ridge_cv_model.fit(X_train, y_train)"
   ]
  },
  {
   "cell_type": "code",
   "execution_count": null,
   "metadata": {
    "execution": {
     "iopub.execute_input": "2021-09-26T19:47:28.003027Z",
     "iopub.status.busy": "2021-09-26T19:47:28.002781Z",
     "iopub.status.idle": "2021-09-26T19:47:28.010119Z",
     "shell.execute_reply": "2021-09-26T19:47:28.009326Z",
     "shell.execute_reply.started": "2021-09-26T19:47:28.002998Z"
    }
   },
   "outputs": [],
   "source": [
    "ridge_cv_model.alpha_"
   ]
  },
  {
   "cell_type": "code",
   "execution_count": null,
   "metadata": {
    "execution": {
     "iopub.execute_input": "2021-09-26T19:47:28.011723Z",
     "iopub.status.busy": "2021-09-26T19:47:28.011464Z",
     "iopub.status.idle": "2021-09-26T19:47:28.021427Z",
     "shell.execute_reply": "2021-09-26T19:47:28.0205Z",
     "shell.execute_reply.started": "2021-09-26T19:47:28.011683Z"
    }
   },
   "outputs": [],
   "source": [
    "y_pred = ridge_cv_model.predict(X_test)"
   ]
  },
  {
   "cell_type": "code",
   "execution_count": null,
   "metadata": {
    "execution": {
     "iopub.execute_input": "2021-09-26T19:47:28.022682Z",
     "iopub.status.busy": "2021-09-26T19:47:28.022477Z",
     "iopub.status.idle": "2021-09-26T19:47:28.032878Z",
     "shell.execute_reply": "2021-09-26T19:47:28.032255Z",
     "shell.execute_reply.started": "2021-09-26T19:47:28.022658Z"
    }
   },
   "outputs": [],
   "source": [
    "y_train_pred = ridge_cv_model.predict(X_train)"
   ]
  },
  {
   "cell_type": "code",
   "execution_count": null,
   "metadata": {
    "execution": {
     "iopub.execute_input": "2021-09-26T19:47:28.034146Z",
     "iopub.status.busy": "2021-09-26T19:47:28.033941Z",
     "iopub.status.idle": "2021-09-26T19:47:28.055962Z",
     "shell.execute_reply": "2021-09-26T19:47:28.054871Z",
     "shell.execute_reply.started": "2021-09-26T19:47:28.034112Z"
    }
   },
   "outputs": [],
   "source": [
    "ridge_cv_scores = {\"ridge_cv_train\": {\"rmse\" : np.sqrt(mean_squared_error(y_train, y_train_pred)),\n",
    "    \"mae\" : mean_absolute_error(y_train, y_train_pred),\n",
    "    \"mse\" : mean_squared_error(y_train, y_train_pred),\n",
    "    \"R2\" : r2_score(y_train, y_train_pred)}, \n",
    "\n",
    "    \"ridge_cv_test\": {\"rmse\" : np.sqrt(mean_squared_error(y_test, y_pred)),\n",
    "    \"mae\" : mean_absolute_error(y_test, y_pred),\n",
    "    \"mse\" : mean_squared_error(y_test, y_pred),\n",
    "    \"R2\" : r2_score(y_test, y_pred)}}\n",
    "rcs = pd.DataFrame(ridge_cv_scores)\n",
    "rcs"
   ]
  },
  {
   "cell_type": "code",
   "execution_count": null,
   "metadata": {
    "execution": {
     "iopub.execute_input": "2021-09-26T19:47:28.057523Z",
     "iopub.status.busy": "2021-09-26T19:47:28.057223Z",
     "iopub.status.idle": "2021-09-26T19:47:28.081861Z",
     "shell.execute_reply": "2021-09-26T19:47:28.080744Z",
     "shell.execute_reply.started": "2021-09-26T19:47:28.057493Z"
    }
   },
   "outputs": [],
   "source": [
    "pd.concat([ls,lcs, rcs], axis = 1)"
   ]
  }
 ],
 "metadata": {
  "kernelspec": {
   "display_name": "Python 3",
   "language": "python",
   "name": "python3"
  },
  "language_info": {
   "codemirror_mode": {
    "name": "ipython",
    "version": 3
   },
   "file_extension": ".py",
   "mimetype": "text/x-python",
   "name": "python",
   "nbconvert_exporter": "python",
   "pygments_lexer": "ipython3",
   "version": "3.8.8"
  }
 },
 "nbformat": 4,
 "nbformat_minor": 4
}
